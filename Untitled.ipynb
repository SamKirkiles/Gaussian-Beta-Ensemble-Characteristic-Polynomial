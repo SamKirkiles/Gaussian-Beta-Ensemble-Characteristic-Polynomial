{
 "cells": [
  {
   "cell_type": "code",
   "execution_count": 630,
   "id": "6cfd89c7",
   "metadata": {},
   "outputs": [],
   "source": [
    "import numpy as np\n",
    "from scipy.sparse import diags\n",
    "import math\n",
    "from scipy import special\n",
    "import matplotlib.pyplot as plt\n",
    "from functools import cache\n",
    "import mpmath as mp\n",
    "from decimal import *\n",
    "from scipy.interpolate import make_interp_spline\n",
    "import jax.numpy as jnp\n",
    "from jax import random\n",
    "import jax\n",
    "\n",
    "jax.config.update(\"jax_enable_x64\", True)\n",
    "\n",
    "seed= 9898\n",
    "key = random.key(seed)\n",
    "\n",
    "# Parameters\n",
    "a = -6\n",
    "b = 2\n",
    "\n",
    "num_trials = 1000\n",
    "num_samples = 1000\n",
    "\n",
    "\n",
    "N=1000\n",
    "beta = 2"
   ]
  },
  {
   "cell_type": "code",
   "execution_count": 631,
   "id": "b91e7409",
   "metadata": {},
   "outputs": [],
   "source": [
    "@jax.jit\n",
    "def tridiagdet(main, off):\n",
    "    n = len(main)\n",
    "    l = jnp.array([0,1],dtype=jnp.float64)\n",
    "    \n",
    "    def body(i,l):\n",
    "        l = jnp.array([l[-1], main[i]*l[-1]- off[i-1]**2*l[-2]], dtype=jnp.float64)\n",
    "        return l\n",
    "    \n",
    "    return jax.lax.fori_loop(0, n, body, l)[-1]\n",
    "\n",
    "@jax.jit\n",
    "def w2(z,N):\n",
    "    return 1/(jnp.power(2*math.pi, 1/(4*N))*jnp.exp(jnp.power(z,2))*(1/2)*jnp.power(N*jnp.power(z,2),-1/(12*N))*jnp.power(2*math.pi*N,1/(4*N))*jnp.exp(-1/2))\n",
    "\n",
    "@jax.jit\n",
    "def psi3(z,N,tridiag_b, tridiag_a):\n",
    "    return jnp.array([tridiagdet(w2(x,N)*((-(4*N*beta)**(-1/2))*tridiag_b+x),-w2(x,N)*((4*N*beta)**(-1/2))*tridiag_a) for x in z], dtype=jnp.float64)\n"
   ]
  },
  {
   "cell_type": "code",
   "execution_count": 632,
   "id": "a067c9d0",
   "metadata": {},
   "outputs": [
    {
     "data": {
      "text/plain": [
       "[<matplotlib.lines.Line2D at 0x33cbab750>]"
      ]
     },
     "execution_count": 632,
     "metadata": {},
     "output_type": "execute_result"
    },
    {
     "data": {
      "image/png": "[encoded data removed]",
      "text/plain": [
       "<Figure size 640x480 with 1 Axes>"
      ]
     },
     "metadata": {},
     "output_type": "display_data"
    }
   ],
   "source": [
    "@jax.jit\n",
    "def w(z,N,n):\n",
    "    return 1/(jnp.power(2*math.pi,1/4)*jnp.exp(N*jnp.power(z,2))*jnp.power(jnp.float64(2),-n)*jnp.power(N*jnp.power(z,2),-1/12)*jnp.sqrt(jax.scipy.special.factorial(n)/(jnp.power(N,n))))\n",
    "\n",
    "\n",
    "_lambda = np.linspace(a,b,100)\n",
    "\n",
    "plt.plot(_lambda, w2(1 + _lambda/(2*N**(2/3)), N))\n",
    "plt.plot(_lambda, jnp.power(w(1 + _lambda/(2*N**(2/3)), N,N),1/N))\n"
   ]
  },
  {
   "cell_type": "code",
   "execution_count": 633,
   "id": "49477f10",
   "metadata": {},
   "outputs": [],
   "source": [
    "def GBE(N):\n",
    "    b = math.sqrt(2)*np.random.normal(size=N)\n",
    "    a = np.array(np.sqrt( np.random.chisquare([beta*i for i in range(1,N)])) )\n",
    "    return jnp.array(b), jnp.array(a)\n"
   ]
  },
  {
   "cell_type": "code",
   "execution_count": 634,
   "id": "1609ab93",
   "metadata": {},
   "outputs": [],
   "source": [
    "def psi(z,N, tridiag_b, tridiag_a):\n",
    "    matrix = jnp.zeros((N,N))\n",
    "\n",
    "    for i in range(N):\n",
    "        matrix = matrix.at[i,i].set(tridiag_b[i])\n",
    "\n",
    "    for i in range(N-1):\n",
    "        matrix = matrix.at[i,i+1].set( tridiag_a[i])\n",
    "        matrix = matrix.at[i+1,i].set(tridiag_a[i])\n",
    "        \n",
    "    return jnp.array([jnp.linalg.det(w2(x,N)*(x*jnp.eye(N) - (4*N*beta)**(-1/2)*matrix)) for x in z], dtype=jnp.float64)\n",
    "\n"
   ]
  },
  {
   "cell_type": "code",
   "execution_count": 635,
   "id": "c127fd07",
   "metadata": {},
   "outputs": [],
   "source": [
    "@jax.jit\n",
    "def phi1(z,N):\n",
    "    return jnp.array([tridiagdet(-((4*N*beta)**(-1/2))*tridiag_b[0:1]+x,-((4*N*beta)**(-1/2))*tridiag_a[0:1]) for x in z], dtype=jnp.float64)\n",
    "@jax.jit\n",
    "def phi2(z,N):\n",
    "    return jnp.array([tridiagdet(-((4*N*beta)**(-1/2))*tridiag_b[0:2]+x,-((4*N*beta)**(-1/2))*tridiag_a[0:2]) for x in z], dtype=jnp.float64)\n",
    "@jax.jit\n",
    "def psi1(l,N):\n",
    "    return w(1+l/(2*N**(2/3)),N,1)*phi1(1+l/(2*N**(2/3)),N)\n",
    "@jax.jit\n",
    "def psi2(l,N):\n",
    "    return w(1+l/(2*N**(2/3)),N,2)*phi2(1+l/(2*N**(2/3)),N)\n",
    "\n",
    "@jax.jit\n",
    "def psi_recurrence(l,N, tridiag_b, tridiag_a):\n",
    "    \n",
    "    psi_prev= (psi1(l,N), psi2(l,N))\n",
    "    \n",
    "    z = 1 + l/(2*N**(2/3))\n",
    "    \n",
    "    \n",
    "    def body(k, psi_prev):\n",
    "        X = tridiag_b[k-1]/jnp.sqrt(2)\n",
    "        Y = (tridiag_a[k-2]**2 - jnp.float64((beta*(k-1))))/jnp.sqrt(2*beta*(k-1))\n",
    "        \n",
    "        return ((psi_prev[-1], \n",
    "                2*psi_prev[-1] - psi_prev[-2]                                             \\\n",
    "                + (2*(z*jnp.sqrt(N/k)-1-X/jnp.sqrt(2*k*beta)))*psi_prev[-1]  \\\n",
    "                - (Y*jnp.sqrt(2)/jnp.sqrt(beta*k)+jnp.sqrt((k-1)/k)-1)*psi_prev[-2]))\n",
    "                \n",
    "    return jax.lax.fori_loop(3, N+1, body, psi_prev)[-1]"
   ]
  },
  {
   "cell_type": "code",
   "execution_count": 636,
   "id": "41e8e4a8",
   "metadata": {},
   "outputs": [
    {
     "data": {
      "text/plain": [
       "<matplotlib.legend.Legend at 0x33ccd8250>"
      ]
     },
     "execution_count": 636,
     "metadata": {},
     "output_type": "execute_result"
    },
    {
     "data": {
      "image/png": "[encoded data removed]",
      "text/plain": [
       "<Figure size 640x480 with 1 Axes>"
      ]
     },
     "metadata": {},
     "output_type": "display_data"
    }
   ],
   "source": [
    "samples = 1000\n",
    "\n",
    "\n",
    "#sample_paths_var = None\n",
    "sample_paths_var2 = None\n",
    "sample_paths_valid = None\n",
    "_lambda = np.linspace(a,b,100)\n",
    "\n",
    "for i in range(samples):\n",
    "    tridiag_b, tridiag_a = GBE(N)\n",
    "    \n",
    "    \n",
    "    #path = psi(1 + _lambda/(2*N**(2/3)),N, tridiag_b, tridiag_a)\n",
    "    #path2 = psi_recurrence(jnp.array(_lambda),N, tridiag_b, tridiag_a)\n",
    "    path3 = psi3(1 + _lambda/(2*N**(2/3)),N, tridiag_b, tridiag_a)\n",
    "    \"\"\"\n",
    "    if sample_paths_var is None:\n",
    "        sample_paths_var = path**2\n",
    "    else:\n",
    "        sample_paths_var = (i-1)/i*sample_paths_var +  1/i*(path**2)\n",
    "\n",
    "    \"\"\"    \n",
    "    if sample_paths_var2 is None:\n",
    "        sample_paths_var2 = path3**2\n",
    "    else:\n",
    "        sample_paths_var2 = (i-1)/i*sample_paths_var2 +  1/i*(path3**2)\n",
    "    \"\"\"\n",
    "    if sample_paths_valid is None:\n",
    "        sample_paths_valid = path2**2\n",
    "    else:\n",
    "        sample_paths_valid = (i-1)/i*sample_paths_valid +  1/i*(path2**2)\n",
    "    \"\"\"\n",
    "#plt.plot(_lambda, sample_paths_var, label=\"Jax Det\")\n",
    "plt.plot(_lambda, sample_paths_var2, label=\"Tridiag Det\")\n",
    "#plt.plot(_lambda, sample_paths_valid)\n",
    "plt.legend()"
   ]
  },
  {
   "cell_type": "code",
   "execution_count": null,
   "id": "1cea7697",
   "metadata": {},
   "outputs": [],
   "source": []
  },
  {
   "cell_type": "code",
   "execution_count": null,
   "id": "e8087765",
   "metadata": {},
   "outputs": [],
   "source": []
  },
  {
   "cell_type": "code",
   "execution_count": null,
   "id": "58a645b9",
   "metadata": {},
   "outputs": [],
   "source": []
  }
 ],
 "metadata": {
  "kernelspec": {
   "display_name": "Python 3 (ipykernel)",
   "language": "python",
   "name": "python3"
  },
  "language_info": {
   "codemirror_mode": {
    "name": "ipython",
    "version": 3
   },
   "file_extension": ".py",
   "mimetype": "text/x-python",
   "name": "python",
   "nbconvert_exporter": "python",
   "pygments_lexer": "ipython3",
   "version": "3.11.5"
  }
 },
 "nbformat": 4,
 "nbformat_minor": 5
}
